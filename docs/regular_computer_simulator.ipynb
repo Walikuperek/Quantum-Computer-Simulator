{
 "cells": [
  {
   "cell_type": "markdown",
   "source": [
    "# Regular computer simulator\n",
    "\n",
    "## How computer works?\n",
    "\n",
    "Computer takes input, processes it and gives output:"
   ],
   "metadata": {
    "collapsed": false
   },
   "id": "243a631f7bf92ea7"
  },
  {
   "cell_type": "code",
   "outputs": [
    {
     "name": "stdout",
     "output_type": "stream",
     "text": [
      "output: 274\n"
     ]
    }
   ],
   "source": [
    "# input\n",
    "a = 0x00000001\n",
    "b = 0x00000111\n",
    "\n",
    "# processing\n",
    "c = a + b\n",
    "\n",
    "# output\n",
    "print(f\"output: {c}\")"
   ],
   "metadata": {
    "collapsed": false,
    "ExecuteTime": {
     "end_time": "2024-01-01T22:43:45.996578Z",
     "start_time": "2024-01-01T22:43:45.992806Z"
    }
   },
   "id": "5162b5d154074776",
   "execution_count": 32
  },
  {
   "cell_type": "markdown",
   "source": [
    "Output should be `274` in decimal or `0x00000112` in hex."
   ],
   "metadata": {
    "collapsed": false
   },
   "id": "d03c084b1117c218"
  },
  {
   "cell_type": "markdown",
   "source": [
    "## How computer stores data?\n",
    "\n",
    "Computer stores data in memory. Memory is a big array of bytes. Each byte has its own address. For example, address of first byte is `0x00000000`, address of second byte is `0x00000001` and so on. Each byte can store number from `0x00` to `0xFF` in hex or from `0` to `255` in decimal. For example, `0x00` is `0` in decimal, `0x01` is `1` in decimal, `0x0A` is `10` in decimal, `0xFF` is `255` in decimal."
   ],
   "metadata": {
    "collapsed": false
   },
   "id": "62d12de0378d5305"
  },
  {
   "cell_type": "code",
   "outputs": [
    {
     "name": "stdout",
     "output_type": "stream",
     "text": [
      "first byte: 0\n",
      "second byte: 1\n",
      "third byte: 2\n",
      "tenth byte: 9\n"
     ]
    },
    {
     "ename": "TypeError",
     "evalue": "expected 1 argument, got 0",
     "output_type": "error",
     "traceback": [
      "\u001B[0;31m---------------------------------------------------------------------------\u001B[0m",
      "\u001B[0;31mTypeError\u001B[0m                                 Traceback (most recent call last)",
      "Cell \u001B[0;32mIn[24], line 11\u001B[0m\n\u001B[1;32m      9\u001B[0m \u001B[38;5;28mprint\u001B[39m(\u001B[38;5;124mf\u001B[39m\u001B[38;5;124m\"\u001B[39m\u001B[38;5;124mthird byte: \u001B[39m\u001B[38;5;132;01m{\u001B[39;00mthird_byte\u001B[38;5;132;01m}\u001B[39;00m\u001B[38;5;124m\"\u001B[39m)\n\u001B[1;32m     10\u001B[0m \u001B[38;5;28mprint\u001B[39m(\u001B[38;5;124mf\u001B[39m\u001B[38;5;124m\"\u001B[39m\u001B[38;5;124mtenth byte: \u001B[39m\u001B[38;5;132;01m{\u001B[39;00mtenth_byte\u001B[38;5;132;01m}\u001B[39;00m\u001B[38;5;124m\"\u001B[39m)\n\u001B[0;32m---> 11\u001B[0m \u001B[38;5;28mprint\u001B[39m(\u001B[43mtenth_byte\u001B[49m\u001B[38;5;241;43m.\u001B[39;49m\u001B[38;5;21;43m__add__\u001B[39;49m\u001B[43m(\u001B[49m\u001B[43m)\u001B[49m)\n",
      "\u001B[0;31mTypeError\u001B[0m: expected 1 argument, got 0"
     ]
    }
   ],
   "source": [
    "first_byte = 0x00\n",
    "second_byte = 0x01\n",
    "third_byte = 0x02\n",
    "# ...\n",
    "tenth_byte = 0x09\n",
    "\n",
    "print(f\"first byte: {first_byte}\")\n",
    "print(f\"second byte: {second_byte}\")\n",
    "print(f\"third byte: {third_byte}\")\n",
    "print(f\"tenth byte: {tenth_byte}\")\n",
    "print(tenth_byte)"
   ],
   "metadata": {
    "collapsed": false,
    "ExecuteTime": {
     "end_time": "2023-12-31T21:16:40.669241Z",
     "start_time": "2023-12-31T21:16:40.661271Z"
    }
   },
   "id": "aac6b08d119848aa",
   "execution_count": 24
  },
  {
   "cell_type": "code",
   "outputs": [],
   "source": [],
   "metadata": {
    "collapsed": false
   },
   "id": "614990320abbb959"
  }
 ],
 "metadata": {
  "kernelspec": {
   "display_name": "Python 3",
   "language": "python",
   "name": "python3"
  },
  "language_info": {
   "codemirror_mode": {
    "name": "ipython",
    "version": 2
   },
   "file_extension": ".py",
   "mimetype": "text/x-python",
   "name": "python",
   "nbconvert_exporter": "python",
   "pygments_lexer": "ipython2",
   "version": "2.7.6"
  }
 },
 "nbformat": 4,
 "nbformat_minor": 5
}
